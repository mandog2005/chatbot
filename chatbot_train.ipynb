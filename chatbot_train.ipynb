{
 "cells": [
  {
   "cell_type": "code",
   "execution_count": 13,
   "id": "2c1296c4",
   "metadata": {},
   "outputs": [],
   "source": [
    "#we start importing neccessary packages from apis.\n",
    "#I will use tensorflow API for the AI.\n",
    "#thanks"
   ]
  },
  {
   "cell_type": "code",
   "execution_count": 12,
   "id": "ef38a821",
   "metadata": {},
   "outputs": [],
   "source": [
    "import nltk\n",
    "from nltk.stem import LancasterStemmer\n",
    "stemmer = LancasterStemmer()\n",
    "\n",
    "import numpy as np\n",
    "import random\n",
    "import tflearn\n",
    "import tensorflow as tf\n",
    "import json #we will store out json file for resposes\n",
    "import pickle\n",
    "\n",
    "with open(\"intents.json\") as file:\n",
    "    response_data = json.load(file)"
   ]
  },
  {
   "cell_type": "code",
   "execution_count": 10,
   "id": "0109811d",
   "metadata": {},
   "outputs": [
    {
     "name": "stdout",
     "output_type": "stream",
     "text": [
      "{'intents': [{'tag': 'greeting', 'patterns': ['Hi there', 'How are you', 'Is anyone there?', 'Hey', 'Hola', 'Hello', 'Good day'], 'responses': ['Welcome to my little pizza shop I am your virtual assistant today', 'Good to see you again, Welcome to my little pizza shop', 'Hi, welcome to my little pizza shop, How are you?'], 'context': ''}, {'tag': 'goodbye', 'patterns': ['Bye', 'See you later', 'Goodbye', 'Nice chatting to you, bye', 'Till next time'], 'responses': ['See you!', 'Have a nice day', 'K.'], 'context': ''}, {'tag': 'thanks', 'patterns': ['Thanks', 'Thank you', \"That's helpful\", 'Awesome, thanks', 'Thanks for helping me'], 'responses': ['Happy to help!', 'Any time!', 'My pleasure'], 'context': ''}, {'tag': 'profanity', 'patterns': ['Fuck', 'Asshole', 'Listen here you little shit', 'bitch', 'cock', 'pussy'], 'responses': [\"I don't really like your tone.\", 'Do you make out with your mother with that mouth?', 'I would tell you to go f*#& yourself but im pretty sure you will be disappointed.', 'Calm down', 'Calm down b*tch', 'Calm down human'], 'context': ''}, {'tag': 'noanswer', 'patterns': [], 'responses': [\"Sorry, can't understand you\", 'Please give me more info', 'Not sure I understand'], 'context': ''}, {'tag': 'options', 'patterns': ['How you could help me?', 'What you can do?', 'What help you provide?', 'How you can be helpful?', 'What support is offered'], 'responses': ['I can guide you through anything you want about Pizzas, Hours of Operation, Ordering, or Customer Care!', 'Offering support for Pizzas, Ordering or Customer Care!'], 'context': ''}, {'tag': 'pizza', 'patterns': ['I would like to order', 'Pizza', 'ham and pineapple', 'pepperoni', 'meats', 'green pepper', 'food', 'yummy', 'I would like to order a pizza', 'Italy', 'Naples', 'Cris Florian', 'I like pizzas'], 'responses': ['Which pizzas would you like?', 'Which one would you like?', 'I love the ham and pineapple, would you like to order?', 'Which pizzas would you like babe.', 'I love you'], 'context': ''}, {'tag': 'customer', 'patterns': ['I need to speak to a manager', 'Customer Service', 'manager is around', 'talk to a human', 'I want to eat children', 'I need to speak to someone.'], 'responses': ['Let me talk to a human for you.', \"I'll be right back with a human\", 'I wish I was a real human one second.'], 'context': ''}]}\n"
     ]
    }
   ],
   "source": [
    "#print(data) #just checking."
   ]
  },
  {
   "cell_type": "code",
   "execution_count": 13,
   "id": "cc3ba4c9",
   "metadata": {},
   "outputs": [],
   "source": [
    "try:\n",
    "    #load in some pickle data.\n",
    "    with open(\"data.pickle\",\"rb\") as file:\n",
    "        words,labels,training,output = pickle.load(file)\n",
    "except:\n",
    "    #we don't want to run data over and over waste or time and resources.\n",
    "    words = [] #list of words\n",
    "    labels = []\n",
    "    docs = []\n",
    "    tgs = [] #short for tags\n",
    "\n",
    "    for intent in response_data[\"intents\"]:\n",
    "        for pattern in intent[\"patterns\"]:\n",
    "            #tokenize words, taking each word and putting them as a pattern. I am converting string object to tokenized words\n",
    "            #so that python will understand.\n",
    "            wrds = nltk.word_tokenize(pattern)\n",
    "            #we want to save these tokenized pattern in our word list\n",
    "            words.extend(wrds)\n",
    "            #add to the documents list the pattern of words.\n",
    "            docs.append(wrds)\n",
    "            #we can tell is pattern = tag for better accuracy of AI.\n",
    "            tgs.append(intent[\"tag\"])\n",
    "\n",
    "            #now we can use conditional branching for proper AI response.\n",
    "            if intent[\"tag\"] not in labels:\n",
    "                labels.append(intent[\"tag\"])\n",
    "\n",
    "    #gonna stem all the words in this words lists and remove any duplicate elements.\n",
    "    #We want to see how many words it has seen already.\n",
    "\n",
    "    #w.lower() is required as you want all your text to be lowercase for effeciency and accuracy.\n",
    "    words = [stemmer.stem(w.lower()) for w in words]\n",
    "\n",
    "    #this does 3 things\n",
    "    #set(words) = removes all duplicate words\n",
    "    #list() = converts set back to list\n",
    "    #sorted() = sorts words for cleaner code.\n",
    "\n",
    "    words = sorted(list(set(words)))\n",
    "    #sort labels.\n",
    "    labels = sorted(labels)\n",
    "\n",
    "    #a bag of words \n",
    "    training = []\n",
    "    output = []\n",
    "\n",
    "    out_empty = [0 for _ in range(len(labels))]\n",
    "\n",
    "\n",
    "    for x, doc in enumerate(docs):\n",
    "        bag = [] #get that bag\n",
    "\n",
    "        wrds = [stemmer.stem(w) for w in doc]\n",
    "\n",
    "        for w in words:\n",
    "            if w in wrds:\n",
    "                bag.append(1) #we say that word exists and should go here.\n",
    "            else:\n",
    "                bag.append(0) #no words, give 0.\n",
    "\n",
    "        #we add tags list of labels for 1 so we can add it to hot bags\n",
    "        output_row = out_empty[:]\n",
    "        output_row[labels.index(tgs[x])] = 1\n",
    "\n",
    "        training.append(bag)\n",
    "        output.append(output_row)\n",
    "    \n",
    "    #we store out training data and output data to numpy as a list.\n",
    "    training = np.array(training)\n",
    "    output = np.array(output)\n",
    "    \n",
    "    with open(\"data.pickle\",\"wb\") as file:\n",
    "        pickle.dump((words,labels,training,output), file)"
   ]
  },
  {
   "cell_type": "code",
   "execution_count": 5,
   "id": "618b094e",
   "metadata": {},
   "outputs": [],
   "source": [
    "tf.compat.v1.reset_default_graph()"
   ]
  },
  {
   "cell_type": "code",
   "execution_count": 6,
   "id": "8ec5dd62",
   "metadata": {},
   "outputs": [
    {
     "name": "stdout",
     "output_type": "stream",
     "text": [
      "WARNING:tensorflow:From C:\\Users\\alial\\anaconda3\\lib\\site-packages\\tflearn\\initializations.py:164: calling TruncatedNormal.__init__ (from tensorflow.python.ops.init_ops) with dtype is deprecated and will be removed in a future version.\n",
      "Instructions for updating:\n",
      "Call initializer instance with the dtype argument instead of passing it to the constructor\n"
     ]
    }
   ],
   "source": [
    "#define the input shape we are expecting for the model\n",
    "net = tflearn.input_data(shape=[None,len(training[0])])\n",
    "\n",
    "#in this case words are tokenized and run  through a neural network with 16 nodes and \n",
    "net = tflearn.fully_connected(net,8)\n",
    "net = tflearn.fully_connected(net,8)\n",
    "net = tflearn.fully_connected(net,len(output[0]),activation=\"softmax\")\n",
    "net = tflearn.regression(net)\n",
    "\n",
    "model = tflearn.DNN(net)\n",
    "\n",
    "#checking if model is "
   ]
  },
  {
   "cell_type": "code",
   "execution_count": 9,
   "id": "bdd9fcfe",
   "metadata": {
    "scrolled": false
   },
   "outputs": [
    {
     "name": "stdout",
     "output_type": "stream",
     "text": [
      "Training Step: 12059  | total loss: \u001b[1m\u001b[32m0.00258\u001b[0m\u001b[0m | time: 0.006s\n",
      "| Adam | epoch: 2010 | loss: 0.00258 - acc: 1.0000 -- iter: 40/47\n",
      "Training Step: 12060  | total loss: \u001b[1m\u001b[32m0.00271\u001b[0m\u001b[0m | time: 0.007s\n",
      "| Adam | epoch: 2010 | loss: 0.00271 - acc: 1.0000 -- iter: 47/47\n",
      "--\n",
      "INFO:tensorflow:C:\\Users\\alial\\Documents\\Chatbot Project\\model.tflearn is not in all_model_checkpoint_paths. Manually adding it.\n"
     ]
    }
   ],
   "source": [
    "#model is then saved for work in the future.\n",
    " \n",
    "model.fit(training,output,n_epoch = 1000,batch_size = 8,show_metric=True)\n",
    "model.save(\"model.tflearn\")"
   ]
  },
  {
   "cell_type": "code",
   "execution_count": 91,
   "id": "f84d7454",
   "metadata": {},
   "outputs": [],
   "source": []
  },
  {
   "cell_type": "code",
   "execution_count": null,
   "id": "eee570f9",
   "metadata": {},
   "outputs": [],
   "source": []
  }
 ],
 "metadata": {
  "kernelspec": {
   "display_name": "Python 3 (ipykernel)",
   "language": "python",
   "name": "python3"
  },
  "language_info": {
   "codemirror_mode": {
    "name": "ipython",
    "version": 3
   },
   "file_extension": ".py",
   "mimetype": "text/x-python",
   "name": "python",
   "nbconvert_exporter": "python",
   "pygments_lexer": "ipython3",
   "version": "3.9.7"
  }
 },
 "nbformat": 4,
 "nbformat_minor": 5
}
