{
 "cells": [
  {
   "cell_type": "code",
   "execution_count": 1,
   "id": "572bbed5",
   "metadata": {},
   "outputs": [],
   "source": [
    "#we start importing neccessary packages from apis.\n",
    "#I will use tensorflow API for the AI.\n",
    "#thanks"
   ]
  },
  {
   "cell_type": "code",
   "execution_count": 2,
   "id": "ef38a821",
   "metadata": {},
   "outputs": [
    {
     "name": "stdout",
     "output_type": "stream",
     "text": [
      "WARNING:tensorflow:From C:\\Users\\alial\\anaconda3\\lib\\site-packages\\tensorflow\\python\\compat\\v2_compat.py:107: disable_resource_variables (from tensorflow.python.ops.variable_scope) is deprecated and will be removed in a future version.\n",
      "Instructions for updating:\n",
      "non-resource variables are not supported in the long term\n",
      "curses is not supported on this machine (please install/reinstall curses for an optimal experience)\n"
     ]
    }
   ],
   "source": [
    "import nltk\n",
    "from nltk.stem import LancasterStemmer\n",
    "stemmer = LancasterStemmer()\n",
    "\n",
    "import numpy as np\n",
    "import random\n",
    "import tflearn\n",
    "import tensorflow as tf\n",
    "import json #we will store out json file for resposes\n",
    "import pickle\n",
    "\n",
    "with open(\"intents.json\") as file:\n",
    "    response_data = json.load(file)"
   ]
  },
  {
   "cell_type": "code",
   "execution_count": 3,
   "id": "0109811d",
   "metadata": {},
   "outputs": [],
   "source": [
    "#print(response_data) #just checking."
   ]
  },
  {
   "cell_type": "code",
   "execution_count": 4,
   "id": "cc3ba4c9",
   "metadata": {},
   "outputs": [],
   "source": [
    "try:\n",
    "    #load in some pickle data.\n",
    "    with open(\"data.pickle\",\"rb\") as file:\n",
    "        words,labels,training,output = pickle.load(file)\n",
    "except:\n",
    "    #we don't want to run data over and over waste or time and resources.\n",
    "    words = [] #list of words\n",
    "    labels = []\n",
    "    docs = []\n",
    "    tgs = [] #short for tags\n",
    "\n",
    "    for intent in response_data[\"intents\"]:\n",
    "        for pattern in intent[\"patterns\"]:\n",
    "            #tokenize words, taking each word and putting them as a pattern. I am converting string object to tokenized words\n",
    "            #so that python will understand.\n",
    "            wrds = nltk.word_tokenize(pattern)\n",
    "            #we want to save these tokenized pattern in our word list\n",
    "            words.extend(wrds)\n",
    "            #add to the documents list the pattern of words.\n",
    "            docs.append(wrds)\n",
    "            #we can tell is pattern = tag for better accuracy of AI.\n",
    "            tgs.append(intent[\"tag\"])\n",
    "\n",
    "            #now we can use conditional branching for proper AI response.\n",
    "            if intent[\"tag\"] not in labels:\n",
    "                labels.append(intent[\"tag\"])\n",
    "\n",
    "    #gonna stem all the words in this words lists and remove any duplicate elements.\n",
    "    #We want to see how many words it has seen already.\n",
    "\n",
    "    #w.lower() is required as you want all your text to be lowercase for effeciency and accuracy.\n",
    "    words = [stemmer.stem(w.lower()) for w in words]\n",
    "\n",
    "    #this does 3 things\n",
    "    #set(words) = removes all duplicate words\n",
    "    #list() = converts set back to list\n",
    "    #sorted() = sorts words for cleaner code.\n",
    "\n",
    "    words = sorted(list(set(words)))\n",
    "    #sort labels.\n",
    "    labels = sorted(labels)\n",
    "\n",
    "    #a bag of words \n",
    "    training = []\n",
    "    output = []\n",
    "\n",
    "    out_empty = [0 for _ in range(len(labels))]\n",
    "\n",
    "\n",
    "    for x, doc in enumerate(docs):\n",
    "        bag = [] #get that bag\n",
    "\n",
    "        wrds = [stemmer.stem(w) for w in doc]\n",
    "\n",
    "        for w in words:\n",
    "            if w in wrds:\n",
    "                bag.append(1) #we say that word exists and should go here.\n",
    "            else:\n",
    "                bag.append(0) #no words, give 0.\n",
    "\n",
    "        #we add tags list of labels for 1 so we can add it to hot bags\n",
    "        output_row = out_empty[:]\n",
    "        output_row[labels.index(tgs[x])] = 1\n",
    "\n",
    "        training.append(bag)\n",
    "        output.append(output_row)\n",
    "    \n",
    "    #we store out training data and output data to numpy as a list.\n",
    "    training = np.array(training)\n",
    "    output = np.array(output)\n",
    "    \n",
    "    with open(\"data.pickle\",\"wb\") as file:\n",
    "        pickle.dump((words,labels,training,output), file)"
   ]
  },
  {
   "cell_type": "code",
   "execution_count": 5,
   "id": "618b094e",
   "metadata": {},
   "outputs": [],
   "source": [
    "tf.compat.v1.reset_default_graph()"
   ]
  },
  {
   "cell_type": "code",
   "execution_count": 6,
   "id": "8ec5dd62",
   "metadata": {},
   "outputs": [
    {
     "name": "stdout",
     "output_type": "stream",
     "text": [
      "WARNING:tensorflow:From C:\\Users\\alial\\anaconda3\\lib\\site-packages\\tflearn\\initializations.py:164: calling TruncatedNormal.__init__ (from tensorflow.python.ops.init_ops) with dtype is deprecated and will be removed in a future version.\n",
      "Instructions for updating:\n",
      "Call initializer instance with the dtype argument instead of passing it to the constructor\n"
     ]
    }
   ],
   "source": [
    "#define the input shape we are expecting for the model\n",
    "net = tflearn.input_data(shape=[None,len(training[0])])\n",
    "\n",
    "#in this case words are tokenized and run  through a neural network with 16 nodes and \n",
    "net = tflearn.fully_connected(net,8)\n",
    "net = tflearn.fully_connected(net,8)\n",
    "net = tflearn.fully_connected(net,len(output[0]),activation=\"softmax\")\n",
    "net = tflearn.regression(net)\n",
    "\n",
    "model = tflearn.DNN(net)"
   ]
  },
  {
   "cell_type": "code",
   "execution_count": 7,
   "id": "bdd9fcfe",
   "metadata": {
    "scrolled": false
   },
   "outputs": [
    {
     "name": "stdout",
     "output_type": "stream",
     "text": [
      "INFO:tensorflow:Restoring parameters from C:\\Users\\alial\\Documents\\Chatbot Project\\model.tflearn\n"
     ]
    }
   ],
   "source": [
    "#checking if model is already created \n",
    "try:\n",
    "    model.load(\"model.tflearn\")\n",
    "#model is then saved for work in the future.\n",
    "except:\n",
    "    model.fit(training,output,n_epoch = 1000,batch_size = 8,show_metric=True)\n",
    "    model.save(\"model.tflearn\")"
   ]
  },
  {
   "cell_type": "code",
   "execution_count": 14,
   "id": "f84d7454",
   "metadata": {},
   "outputs": [],
   "source": [
    "#creating a function that takes key words from words lists taken from sentence.\n",
    "def bag_ofwords(sen,words):\n",
    "    #check bag if this element of words exists or it doesnt.\n",
    "    bag = [0 for _ in range(len(words))]\n",
    "    \n",
    "    #we have to tokenize each word and add to our bag.\n",
    "    s_words = nltk.word_tokenize(sen)\n",
    "    s_words = [stemmer.stem(word.lower()) for word in s_words] #this is stemming our words in tokenized sentences.\n",
    "    \n",
    "    for sn in s_words:\n",
    "        for i,w in enumerate(words):\n",
    "            if w == sn:\n",
    "                bag[i] = 1 #append a 1 if word exists in bag of words.\n",
    "            #else append(0), we already appended 0 on all list.\n",
    "            \n",
    "    return np.array(bag)"
   ]
  },
  {
   "cell_type": "code",
   "execution_count": 15,
   "id": "eee570f9",
   "metadata": {},
   "outputs": [],
   "source": [
    "#chat function user end.\n",
    "def chat():\n",
    "    print(\"Hello, I am a real human *wink*. How may I help you today? (type exit to quit) \")\n",
    "    while True:\n",
    "        inp = input(\"You: \")\n",
    "        if inp.lower() == \"exit\":\n",
    "            break\n",
    "        \n",
    "        \n",
    "        res = model.predict([bag_ofwords(inp,words)])\n",
    "        print(res)"
   ]
  },
  {
   "cell_type": "code",
   "execution_count": null,
   "id": "f48ea3d0",
   "metadata": {},
   "outputs": [
    {
     "name": "stdout",
     "output_type": "stream",
     "text": [
      "Hello, I am a real human *wink*. How may I help you today? (type exit to quit) \n",
      "You: hello\n",
      "[[1.2274872e-03 6.0806912e-03 9.8691273e-01 4.4430769e-03 1.4386748e-07\n",
      "  1.9389660e-07 1.3358162e-03]]\n",
      "You: eat\n",
      "[[4.5252919e-01 4.4325539e-01 8.3060106e-03 2.1275981e-05 6.6609785e-02\n",
      "  2.8914634e-02 3.6369596e-04]]\n"
     ]
    }
   ],
   "source": [
    "chat()"
   ]
  },
  {
   "cell_type": "code",
   "execution_count": null,
   "id": "e0a5334b",
   "metadata": {},
   "outputs": [],
   "source": []
  },
  {
   "cell_type": "code",
   "execution_count": null,
   "id": "a288ab0d",
   "metadata": {},
   "outputs": [],
   "source": []
  }
 ],
 "metadata": {
  "kernelspec": {
   "display_name": "Python 3 (ipykernel)",
   "language": "python",
   "name": "python3"
  },
  "language_info": {
   "codemirror_mode": {
    "name": "ipython",
    "version": 3
   },
   "file_extension": ".py",
   "mimetype": "text/x-python",
   "name": "python",
   "nbconvert_exporter": "python",
   "pygments_lexer": "ipython3",
   "version": "3.9.7"
  }
 },
 "nbformat": 4,
 "nbformat_minor": 5
}
